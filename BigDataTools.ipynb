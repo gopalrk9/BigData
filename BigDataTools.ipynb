{
  "nbformat": 4,
  "nbformat_minor": 0,
  "metadata": {
    "colab": {
      "provenance": []
    },
    "kernelspec": {
      "name": "python3",
      "display_name": "Python 3"
    },
    "language_info": {
      "name": "python"
    }
  },
  "cells": [
    {
      "cell_type": "code",
      "execution_count": 1,
      "metadata": {
        "colab": {
          "base_uri": "https://localhost:8080/"
        },
        "id": "T0md-cDBzgei",
        "outputId": "c4bbb6fd-47cd-47dc-b2f9-5705c41c80c9"
      },
      "outputs": [
        {
          "output_type": "stream",
          "name": "stdout",
          "text": [
            "Requirement already satisfied: pandas in /usr/local/lib/python3.10/dist-packages (2.2.2)\n",
            "Collecting cassandra-driver\n",
            "  Downloading cassandra_driver-3.29.2-cp310-cp310-manylinux_2_17_x86_64.manylinux2014_x86_64.whl.metadata (6.2 kB)\n",
            "Requirement already satisfied: numpy>=1.22.4 in /usr/local/lib/python3.10/dist-packages (from pandas) (1.26.4)\n",
            "Requirement already satisfied: python-dateutil>=2.8.2 in /usr/local/lib/python3.10/dist-packages (from pandas) (2.8.2)\n",
            "Requirement already satisfied: pytz>=2020.1 in /usr/local/lib/python3.10/dist-packages (from pandas) (2024.2)\n",
            "Requirement already satisfied: tzdata>=2022.7 in /usr/local/lib/python3.10/dist-packages (from pandas) (2024.2)\n",
            "Collecting geomet<0.3,>=0.1 (from cassandra-driver)\n",
            "  Downloading geomet-0.2.1.post1-py3-none-any.whl.metadata (1.0 kB)\n",
            "Requirement already satisfied: click in /usr/local/lib/python3.10/dist-packages (from geomet<0.3,>=0.1->cassandra-driver) (8.1.7)\n",
            "Requirement already satisfied: six in /usr/local/lib/python3.10/dist-packages (from geomet<0.3,>=0.1->cassandra-driver) (1.16.0)\n",
            "Downloading cassandra_driver-3.29.2-cp310-cp310-manylinux_2_17_x86_64.manylinux2014_x86_64.whl (3.9 MB)\n",
            "\u001b[2K   \u001b[90m━━━━━━━━━━━━━━━━━━━━━━━━━━━━━━━━━━━━━━━━\u001b[0m \u001b[32m3.9/3.9 MB\u001b[0m \u001b[31m28.2 MB/s\u001b[0m eta \u001b[36m0:00:00\u001b[0m\n",
            "\u001b[?25hDownloading geomet-0.2.1.post1-py3-none-any.whl (18 kB)\n",
            "Installing collected packages: geomet, cassandra-driver\n",
            "Successfully installed cassandra-driver-3.29.2 geomet-0.2.1.post1\n"
          ]
        }
      ],
      "source": [
        "!pip install pandas cassandra-driver\n",
        "\n",
        "# Import the necessary libraries\n",
        "from cassandra.cluster import Cluster\n",
        "from cassandra.auth import PlainTextAuthProvider\n",
        "import json"
      ]
    },
    {
      "cell_type": "code",
      "source": [
        "\n",
        "cloud_config= {\n",
        "  'secure_connect_bundle': '/content/sample_data/secure-connect-big-data2.zip'\n",
        "}\n",
        "\n",
        "\n",
        "with open(\"/content/sample_data/Big_Data2-token.json\") as f:\n",
        "    secrets = json.load(f)\n",
        "\n",
        "\n",
        "CLIENT_ID = secrets[\"clientId\"]\n",
        "CLIENT_SECRET = secrets[\"secret\"]\n",
        "\n",
        "auth_provider = PlainTextAuthProvider(CLIENT_ID, CLIENT_SECRET)\n",
        "cluster = Cluster(cloud=cloud_config, auth_provider=auth_provider)\n",
        "session = cluster.connect()\n",
        "\n",
        "if session:\n",
        "  print('Connected!')\n",
        "else:\n",
        "  print(\"An error occurred.\")"
      ],
      "metadata": {
        "colab": {
          "base_uri": "https://localhost:8080/"
        },
        "id": "OqzS-kBh7tJ6",
        "outputId": "37e21e08-0970-48bf-da4c-c8ba4619653b"
      },
      "execution_count": 3,
      "outputs": [
        {
          "output_type": "stream",
          "name": "stderr",
          "text": [
            "WARNING:cassandra.cluster:Downgrading core protocol version from 66 to 65 for 1aa171fb-7dcc-44be-a931-3e32eac0bea1-us-east-2.db.astra.datastax.com:29042:190dafab-6970-3a67-a21c-1226360de7dc. To avoid this, it is best practice to explicitly set Cluster(protocol_version) to the version supported by your cluster. http://datastax.github.io/python-driver/api/cassandra/cluster.html#cassandra.cluster.Cluster.protocol_version\n",
            "WARNING:cassandra.cluster:Downgrading core protocol version from 65 to 5 for 1aa171fb-7dcc-44be-a931-3e32eac0bea1-us-east-2.db.astra.datastax.com:29042:190dafab-6970-3a67-a21c-1226360de7dc. To avoid this, it is best practice to explicitly set Cluster(protocol_version) to the version supported by your cluster. http://datastax.github.io/python-driver/api/cassandra/cluster.html#cassandra.cluster.Cluster.protocol_version\n",
            "WARNING:cassandra.cluster:Downgrading core protocol version from 5 to 4 for 1aa171fb-7dcc-44be-a931-3e32eac0bea1-us-east-2.db.astra.datastax.com:29042:190dafab-6970-3a67-a21c-1226360de7dc. To avoid this, it is best practice to explicitly set Cluster(protocol_version) to the version supported by your cluster. http://datastax.github.io/python-driver/api/cassandra/cluster.html#cassandra.cluster.Cluster.protocol_version\n"
          ]
        },
        {
          "output_type": "stream",
          "name": "stdout",
          "text": [
            "Connected!\n"
          ]
        }
      ]
    },
    {
      "cell_type": "code",
      "source": [
        "import pandas as pd\n",
        "from cassandra.cluster import Cluster\n",
        "from cassandra.auth import PlainTextAuthProvider\n",
        "\n",
        "# Read CSV\n",
        "df = pd.read_csv('/content/sample_data/sales_100.csv')\n",
        "\n",
        "# Cassandra Connection\n",
        "cloud_config= {\n",
        "    'secure_connect_bundle': '/content/sample_data/secure-connect-big-data2.zip'\n",
        "}\n",
        "auth_provider = PlainTextAuthProvider(CLIENT_ID, CLIENT_SECRET)\n",
        "cluster = Cluster(cloud=cloud_config, auth_provider=auth_provider)\n",
        "session = cluster.connect()\n",
        "\n",
        "# Switch to existing keyspace\n",
        "session.set_keyspace('sales_medallion1')  # Using the existing keyspace name\n",
        "\n",
        "\n",
        "# Create Bronze Layer Table\n",
        "session.execute(\"\"\"\n",
        "    CREATE TABLE IF NOT EXISTS bronze_sales (\n",
        "        order_id bigint PRIMARY KEY,\n",
        "        region text,\n",
        "        country text,\n",
        "        item_type text,\n",
        "        sales_channel text,\n",
        "        order_priority text,\n",
        "        order_date text,\n",
        "        ship_date text,\n",
        "        units_sold int,\n",
        "        unit_price decimal,\n",
        "        unit_cost decimal,\n",
        "        total_revenue decimal,\n",
        "        total_cost decimal,\n",
        "        total_profit decimal\n",
        "    )\n",
        "\"\"\")\n",
        "\n",
        "# Insert Data into Bronze Layer\n",
        "insert_query = \"\"\"\n",
        "    INSERT INTO bronze_sales (\n",
        "        order_id, region, country, item_type, sales_channel,\n",
        "        order_priority, order_date, ship_date, units_sold,\n",
        "        unit_price, unit_cost, total_revenue, total_cost, total_profit\n",
        "    ) VALUES (\n",
        "        ?, ?, ?, ?, ?, ?, ?, ?, ?, ?, ?, ?, ?, ?\n",
        "    )\n",
        "\"\"\"\n",
        "\n",
        "# Prepare and execute batch inserts\n",
        "batch = session.prepare(insert_query)\n",
        "for _, row in df.iterrows():\n",
        "    session.execute(batch, (\n",
        "        int(row['Order ID']), row['Region'], row['Country'],\n",
        "        row['Item Type'], row['Sales Channel'], row['Order Priority'],\n",
        "        row['Order Date'], row['Ship Date'], int(row['UnitsSold']),\n",
        "        float(row['UnitPrice']), float(row['UnitCost']),\n",
        "        float(row['TotalRevenue']), float(row['TotalCost']),\n",
        "        float(row['TotalProfit'])\n",
        "    ))\n",
        "\n",
        "print(\"Bronze Layer Data Ingestion Complete!\")"
      ],
      "metadata": {
        "colab": {
          "base_uri": "https://localhost:8080/"
        },
        "id": "0R6aSPBCJdUg",
        "outputId": "c51ed498-98d9-4a0c-fea1-75fca1852cde"
      },
      "execution_count": 15,
      "outputs": [
        {
          "output_type": "stream",
          "name": "stderr",
          "text": [
            "WARNING:cassandra.cluster:Downgrading core protocol version from 66 to 65 for 1aa171fb-7dcc-44be-a931-3e32eac0bea1-us-east-2.db.astra.datastax.com:29042:0750e59f-441b-37bb-b0a7-e097c5d725f7. To avoid this, it is best practice to explicitly set Cluster(protocol_version) to the version supported by your cluster. http://datastax.github.io/python-driver/api/cassandra/cluster.html#cassandra.cluster.Cluster.protocol_version\n",
            "WARNING:cassandra.cluster:Downgrading core protocol version from 65 to 5 for 1aa171fb-7dcc-44be-a931-3e32eac0bea1-us-east-2.db.astra.datastax.com:29042:0750e59f-441b-37bb-b0a7-e097c5d725f7. To avoid this, it is best practice to explicitly set Cluster(protocol_version) to the version supported by your cluster. http://datastax.github.io/python-driver/api/cassandra/cluster.html#cassandra.cluster.Cluster.protocol_version\n",
            "WARNING:cassandra.cluster:Downgrading core protocol version from 5 to 4 for 1aa171fb-7dcc-44be-a931-3e32eac0bea1-us-east-2.db.astra.datastax.com:29042:0750e59f-441b-37bb-b0a7-e097c5d725f7. To avoid this, it is best practice to explicitly set Cluster(protocol_version) to the version supported by your cluster. http://datastax.github.io/python-driver/api/cassandra/cluster.html#cassandra.cluster.Cluster.protocol_version\n"
          ]
        },
        {
          "output_type": "stream",
          "name": "stdout",
          "text": [
            "Bronze Layer Data Ingestion Complete!\n"
          ]
        }
      ]
    },
    {
      "cell_type": "code",
      "source": [
        "import pandas as pd\n",
        "from cassandra.cluster import Cluster\n",
        "from cassandra.auth import PlainTextAuthProvider\n",
        "import datetime\n",
        "\n",
        "# Cassandra Connection (same as Bronze Layer script)\n",
        "cloud_config= {\n",
        "    'secure_connect_bundle': '/content/sample_data/secure-connect-big-data2.zip'\n",
        "}\n",
        "# Use the correct credentials obtained earlier\n",
        "auth_provider = PlainTextAuthProvider(CLIENT_ID, CLIENT_SECRET)\n",
        "# Specify cloud_config using the cloud parameter\n",
        "cluster = Cluster(cloud=cloud_config, auth_provider=auth_provider)\n",
        "session = cluster.connect('sales_medallion1')\n",
        "\n",
        "\n",
        "# Create Silver Layer Tables with Data Quality and Transformation\n",
        "session.execute(\"\"\"\n",
        "    CREATE TABLE IF NOT EXISTS silver_sales_cleaned (\n",
        "        order_id bigint PRIMARY KEY,\n",
        "        region text,\n",
        "        country text,\n",
        "        item_type text,\n",
        "        sales_channel text,\n",
        "        order_priority text,\n",
        "        order_date date,\n",
        "        ship_date date,\n",
        "        units_sold int,\n",
        "        unit_price decimal,\n",
        "        unit_cost decimal,\n",
        "        total_revenue decimal,\n",
        "        total_cost decimal,\n",
        "        total_profit decimal,\n",
        "        order_year int,\n",
        "        order_month int\n",
        "    )\n",
        "\"\"\")\n",
        "\n",
        "# Function to transform data\n",
        "def transform_data(row):\n",
        "    order_date = datetime.datetime.strptime(row['order_date'], '%m/%d/%Y')\n",
        "    return {\n",
        "        'order_id': int(row['order_id']),\n",
        "        'region': row['region'],\n",
        "        'country': row['country'],\n",
        "        'item_type': row['item_type'],\n",
        "        'sales_channel': row['sales_channel'],\n",
        "        'order_priority': row['order_priority'],\n",
        "        'order_date': order_date.date(),\n",
        "        'ship_date': datetime.datetime.strptime(row['ship_date'], '%m/%d/%Y').date(),\n",
        "        'units_sold': int(row['units_sold']),\n",
        "        'unit_price': float(row['unit_price']),\n",
        "        'unit_cost': float(row['unit_cost']),\n",
        "        'total_revenue': float(row['total_revenue']),\n",
        "        'total_cost': float(row['total_cost']),\n",
        "        'total_profit': float(row['total_profit']),\n",
        "        'order_year': order_date.year,\n",
        "        'order_month': order_date.month\n",
        "    }\n",
        "\n",
        "# Insert Transformed Data\n",
        "insert_query = \"\"\"\n",
        "    INSERT INTO silver_sales_cleaned (\n",
        "        order_id, region, country, item_type, sales_channel,\n",
        "        order_priority, order_date, ship_date, units_sold,\n",
        "        unit_price, unit_cost, total_revenue, total_cost,\n",
        "        total_profit, order_year, order_month\n",
        "    ) VALUES (\n",
        "        ?, ?, ?, ?, ?, ?, ?, ?, ?, ?, ?, ?, ?, ?, ?, ?  )\n",
        "\"\"\"\n",
        "\n",
        "# Fetch Bronze Layer Data and Transform\n",
        "rows = session.execute(\"SELECT * FROM bronze_sales\")\n",
        "batch = session.prepare(insert_query)\n",
        "\n",
        "for row in rows:\n",
        "    transformed_row = transform_data(row._asdict())\n",
        "    session.execute(batch, tuple(transformed_row.values()))\n",
        "\n",
        "print(\"Silver Layer Data Transformation Complete!\")"
      ],
      "metadata": {
        "colab": {
          "base_uri": "https://localhost:8080/"
        },
        "id": "RcVqloueJp-z",
        "outputId": "aab11763-2f70-4d98-e011-9e9e9f6f43fc"
      },
      "execution_count": 20,
      "outputs": [
        {
          "output_type": "stream",
          "name": "stderr",
          "text": [
            "WARNING:cassandra.cluster:Downgrading core protocol version from 66 to 65 for 1aa171fb-7dcc-44be-a931-3e32eac0bea1-us-east-2.db.astra.datastax.com:29042:678e6a1d-e5b1-3cba-b949-7bfaf823957f. To avoid this, it is best practice to explicitly set Cluster(protocol_version) to the version supported by your cluster. http://datastax.github.io/python-driver/api/cassandra/cluster.html#cassandra.cluster.Cluster.protocol_version\n",
            "WARNING:cassandra.cluster:Downgrading core protocol version from 65 to 5 for 1aa171fb-7dcc-44be-a931-3e32eac0bea1-us-east-2.db.astra.datastax.com:29042:678e6a1d-e5b1-3cba-b949-7bfaf823957f. To avoid this, it is best practice to explicitly set Cluster(protocol_version) to the version supported by your cluster. http://datastax.github.io/python-driver/api/cassandra/cluster.html#cassandra.cluster.Cluster.protocol_version\n",
            "WARNING:cassandra.cluster:Downgrading core protocol version from 5 to 4 for 1aa171fb-7dcc-44be-a931-3e32eac0bea1-us-east-2.db.astra.datastax.com:29042:678e6a1d-e5b1-3cba-b949-7bfaf823957f. To avoid this, it is best practice to explicitly set Cluster(protocol_version) to the version supported by your cluster. http://datastax.github.io/python-driver/api/cassandra/cluster.html#cassandra.cluster.Cluster.protocol_version\n"
          ]
        },
        {
          "output_type": "stream",
          "name": "stdout",
          "text": [
            "Silver Layer Data Transformation Complete!\n"
          ]
        }
      ]
    },
    {
      "cell_type": "code",
      "source": [
        "from cassandra.cluster import Cluster\n",
        "from cassandra.auth import PlainTextAuthProvider\n",
        "\n",
        "# Cassandra Connection\n",
        "cloud_config= {\n",
        "    'secure_connect_bundle': '/content/sample_data/secure-connect-big-data2.zip'\n",
        "}\n",
        "auth_provider = PlainTextAuthProvider(CLIENT_ID, CLIENT_SECRET)\n",
        "cluster = Cluster(cloud=cloud_config, auth_provider=auth_provider)\n",
        "session = cluster.connect('sales_medallion1')\n",
        "\n",
        "\n",
        "# Gold Layer 1: Yearly Sales by Region\n",
        "session.execute(\"\"\"\n",
        "    CREATE TABLE IF NOT EXISTS gold_yearly_sales_by_region (\n",
        "        order_year int,\n",
        "        region text,\n",
        "        total_revenue decimal,\n",
        "        total_units_sold int,\n",
        "        total_profit decimal,\n",
        "        PRIMARY KEY ((order_year), region)\n",
        "    )\n",
        "\"\"\")\n",
        "\n",
        "# Fetch data and insert individually\n",
        "select_query = \"\"\"\n",
        "    SELECT order_year, region, total_revenue, units_sold, total_profit\n",
        "    FROM silver_sales_cleaned\n",
        "    WHERE order_year = ? ALLOW FILTERING\n",
        "\"\"\"\n",
        "\n",
        "insert_query = \"\"\"\n",
        "    INSERT INTO gold_yearly_sales_by_region (order_year, region, total_revenue, total_units_sold, total_profit)\n",
        "    VALUES (?, ?, ?, ?, ?)\n",
        "\"\"\"\n",
        "prepared_insert = session.prepare(insert_query)\n",
        "prepared_select = session.prepare(select_query)\n",
        "\n",
        "# Fetch all order_year values\n",
        "fetch_years_query = \"SELECT order_year FROM silver_sales_cleaned\"\n",
        "rows = session.execute(fetch_years_query)\n",
        "\n",
        "# Extract distinct years using a set\n",
        "years = {row.order_year for row in rows}\n",
        "print(\"Distinct Years:\", years)\n",
        "\n",
        "# Iterate through years and regions to aggregate\n",
        "for year in years:\n",
        "    rows = session.execute(prepared_select, (year,))\n",
        "    for row in rows:\n",
        "\n",
        "        regional_totals = {}\n",
        "        if row.region in regional_totals:\n",
        "            regional_totals[row.region]['total_revenue'] += row.total_revenue\n",
        "            regional_totals[row.region]['total_units_sold'] += row.units_sold\n",
        "            regional_totals[row.region]['total_profit'] += row.total_profit\n",
        "        else:\n",
        "            regional_totals[row.region] = {\n",
        "                'total_revenue': row.total_revenue,\n",
        "                'total_units_sold': row.units_sold,\n",
        "                'total_profit': row.total_profit\n",
        "            }\n",
        "\n",
        "    # Insert aggregated data for the current year\n",
        "    for region, totals in regional_totals.items():\n",
        "        session.execute(prepared_insert, (year, region, totals['total_revenue'], totals['total_units_sold'], totals['total_profit']))\n",
        "\n",
        "\n",
        "# Gold Layer 2: Sales by Sales Channel\n",
        "session.execute(\"\"\"\n",
        "    CREATE TABLE IF NOT EXISTS gold_sales_by_channel (\n",
        "        sales_channel text PRIMARY KEY,\n",
        "        total_revenue decimal,\n",
        "        total_units_sold int,\n",
        "        avg_unit_price decimal\n",
        "    )\n",
        "\"\"\")\n",
        "\n",
        "# Fetch data and aggregate using Python\n",
        "select_channel_data = \"\"\"\n",
        "    SELECT sales_channel, total_revenue, units_sold, unit_price\n",
        "    FROM silver_sales_cleaned\n",
        "\"\"\"\n",
        "\n",
        "channel_data = session.execute(select_channel_data)\n",
        "\n",
        "channel_totals = {}\n",
        "for row in channel_data:\n",
        "    if row.sales_channel in channel_totals:\n",
        "        channel_totals[row.sales_channel]['total_revenue'] += row.total_revenue\n",
        "        channel_totals[row.sales_channel]['total_units_sold'] += row.units_sold\n",
        "        channel_totals[row.sales_channel]['total_unit_price_sum'] += row.unit_price\n",
        "        channel_totals[row.sales_channel]['count'] += 1\n",
        "    else:\n",
        "        channel_totals[row.sales_channel] = {\n",
        "            'total_revenue': row.total_revenue,\n",
        "            'total_units_sold': row.units_sold,\n",
        "            'total_unit_price_sum': row.unit_price,\n",
        "            'count': 1\n",
        "        }\n"
      ],
      "metadata": {
        "colab": {
          "base_uri": "https://localhost:8080/"
        },
        "id": "ErHOx10BTgfv",
        "outputId": "a0bf3ee1-10b7-4d71-d1e4-37adeb3b18cd"
      },
      "execution_count": 40,
      "outputs": [
        {
          "output_type": "stream",
          "name": "stderr",
          "text": [
            "WARNING:cassandra.cluster:Downgrading core protocol version from 66 to 65 for 1aa171fb-7dcc-44be-a931-3e32eac0bea1-us-east-2.db.astra.datastax.com:29042:0750e59f-441b-37bb-b0a7-e097c5d725f7. To avoid this, it is best practice to explicitly set Cluster(protocol_version) to the version supported by your cluster. http://datastax.github.io/python-driver/api/cassandra/cluster.html#cassandra.cluster.Cluster.protocol_version\n",
            "WARNING:cassandra.cluster:Downgrading core protocol version from 65 to 5 for 1aa171fb-7dcc-44be-a931-3e32eac0bea1-us-east-2.db.astra.datastax.com:29042:0750e59f-441b-37bb-b0a7-e097c5d725f7. To avoid this, it is best practice to explicitly set Cluster(protocol_version) to the version supported by your cluster. http://datastax.github.io/python-driver/api/cassandra/cluster.html#cassandra.cluster.Cluster.protocol_version\n",
            "WARNING:cassandra.cluster:Downgrading core protocol version from 5 to 4 for 1aa171fb-7dcc-44be-a931-3e32eac0bea1-us-east-2.db.astra.datastax.com:29042:0750e59f-441b-37bb-b0a7-e097c5d725f7. To avoid this, it is best practice to explicitly set Cluster(protocol_version) to the version supported by your cluster. http://datastax.github.io/python-driver/api/cassandra/cluster.html#cassandra.cluster.Cluster.protocol_version\n"
          ]
        },
        {
          "output_type": "stream",
          "name": "stdout",
          "text": [
            "Distinct Years: {2016, 2017, 2010, 2011, 2012, 2013, 2014, 2015}\n"
          ]
        }
      ]
    },
    {
      "cell_type": "code",
      "source": [
        "from cassandra.cluster import Cluster\n",
        "from cassandra.auth import PlainTextAuthProvider\n",
        "import json\n",
        "\n",
        "\n",
        "table_name = \"bronze_sales\"\n",
        "columns = [\"order_id\", \"region\", \"country\", \"item_type\", \"sales_channel\"]\n",
        "\n",
        "# Build the SELECT query\n",
        "select_query = f\"SELECT {', '.join(columns)} FROM {table_name}\"\n",
        "\n",
        "# Execute the query and print only the first 5 records\n",
        "rows = session.execute(select_query)\n",
        "for i, row in enumerate(rows):\n",
        "    if i < 5:\n",
        "        print(row)\n",
        "    else:\n",
        "        break"
      ],
      "metadata": {
        "colab": {
          "base_uri": "https://localhost:8080/"
        },
        "id": "SA1a-Bh9XNsu",
        "outputId": "39009bb1-fc72-43e9-acdd-119290545270"
      },
      "execution_count": 45,
      "outputs": [
        {
          "output_type": "stream",
          "name": "stdout",
          "text": [
            "Row(order_id=294530856, region='Europe', country='Italy', item_type='Cereal', sales_channel='Online')\n",
            "Row(order_id=274930989, region='Central America and the Caribbean', country='Dominica', item_type='Household', sales_channel='Offline')\n",
            "Row(order_id=498071897, region='Asia', country='Taiwan', item_type='Cereal', sales_channel='Online')\n",
            "Row(order_id=940980136, region='Australia and Oceania', country='New Zealand', item_type='Beverages', sales_channel='Online')\n",
            "Row(order_id=324669444, region='Europe', country='France', item_type='Cosmetics', sales_channel='Online')\n"
          ]
        }
      ]
    },
    {
      "cell_type": "code",
      "source": [
        "from cassandra.cluster import Cluster\n",
        "from cassandra.auth import PlainTextAuthProvider\n",
        "import json\n",
        "\n",
        "# Cassandra Connection\n",
        "cloud_config= {\n",
        "    'secure_connect_bundle': '/content/sample_data/secure-connect-big-data2.zip'\n",
        "}\n",
        "auth_provider = PlainTextAuthProvider(CLIENT_ID, CLIENT_SECRET)\n",
        "cluster = Cluster(cloud=cloud_config, auth_provider=auth_provider)\n",
        "session = cluster.connect('sales_medallion1')\n",
        "\n",
        "\n",
        "# Specify the table and columns you want to select\n",
        "table_name = \"silver_sales_cleaned\"  # Replace with your table name\n",
        "columns = [\"order_id\", \"region\", \"country\", \"item_type\", \"sales_channel\"]  # Replace with your desired columns\n",
        "\n",
        "# Build the SELECT query\n",
        "select_query = f\"SELECT {', '.join(columns)} FROM {table_name}\"\n",
        "\n",
        "# Execute the query and print only the first 5 records\n",
        "rows = session.execute(select_query)\n",
        "for i, row in enumerate(rows):\n",
        "    if i < 5:\n",
        "        print(row)\n",
        "    else:\n",
        "        break"
      ],
      "metadata": {
        "colab": {
          "base_uri": "https://localhost:8080/"
        },
        "id": "4pFQQLtzX434",
        "outputId": "e494f5ad-2921-4c96-8574-a1d9db75bce5"
      },
      "execution_count": 46,
      "outputs": [
        {
          "output_type": "stream",
          "name": "stderr",
          "text": [
            "WARNING:cassandra.cluster:Downgrading core protocol version from 66 to 65 for 1aa171fb-7dcc-44be-a931-3e32eac0bea1-us-east-2.db.astra.datastax.com:29042:98a2cd7e-fa1b-3950-942e-42af495c4248. To avoid this, it is best practice to explicitly set Cluster(protocol_version) to the version supported by your cluster. http://datastax.github.io/python-driver/api/cassandra/cluster.html#cassandra.cluster.Cluster.protocol_version\n",
            "WARNING:cassandra.cluster:Downgrading core protocol version from 65 to 5 for 1aa171fb-7dcc-44be-a931-3e32eac0bea1-us-east-2.db.astra.datastax.com:29042:98a2cd7e-fa1b-3950-942e-42af495c4248. To avoid this, it is best practice to explicitly set Cluster(protocol_version) to the version supported by your cluster. http://datastax.github.io/python-driver/api/cassandra/cluster.html#cassandra.cluster.Cluster.protocol_version\n",
            "WARNING:cassandra.cluster:Downgrading core protocol version from 5 to 4 for 1aa171fb-7dcc-44be-a931-3e32eac0bea1-us-east-2.db.astra.datastax.com:29042:98a2cd7e-fa1b-3950-942e-42af495c4248. To avoid this, it is best practice to explicitly set Cluster(protocol_version) to the version supported by your cluster. http://datastax.github.io/python-driver/api/cassandra/cluster.html#cassandra.cluster.Cluster.protocol_version\n"
          ]
        },
        {
          "output_type": "stream",
          "name": "stdout",
          "text": [
            "Row(order_id=294530856, region='Europe', country='Italy', item_type='Cereal', sales_channel='Online')\n",
            "Row(order_id=274930989, region='Central America and the Caribbean', country='Dominica', item_type='Household', sales_channel='Offline')\n",
            "Row(order_id=498071897, region='Asia', country='Taiwan', item_type='Cereal', sales_channel='Online')\n",
            "Row(order_id=940980136, region='Australia and Oceania', country='New Zealand', item_type='Beverages', sales_channel='Online')\n",
            "Row(order_id=324669444, region='Europe', country='France', item_type='Cosmetics', sales_channel='Online')\n"
          ]
        }
      ]
    },
    {
      "cell_type": "code",
      "source": [
        "from cassandra.cluster import Cluster\n",
        "from cassandra.auth import PlainTextAuthProvider\n",
        "import json\n",
        "\n",
        "# Cassandra Connection (Reusing existing connection from your notebook)\n",
        "cloud_config= {\n",
        "    'secure_connect_bundle': '/content/sample_data/secure-connect-big-data2.zip'\n",
        "}\n",
        "auth_provider = PlainTextAuthProvider(CLIENT_ID, CLIENT_SECRET)\n",
        "cluster = Cluster(cloud=cloud_config, auth_provider=auth_provider)\n",
        "session = cluster.connect('sales_medallion1')\n",
        "\n",
        "# Function to print 5 records from a table\n",
        "def print_5_records(table_name):\n",
        "    select_query = f\"SELECT * FROM {table_name}\"\n",
        "    rows = session.execute(select_query)\n",
        "    for i, row in enumerate(rows):\n",
        "        if i < 5:\n",
        "            print(row)\n",
        "        else:\n",
        "            break\n",
        "    print(\"-\" * 20)  # Separator between tables\n",
        "\n",
        "\n",
        "# Print records from gold_yearly_sales_by_region\n",
        "print_5_records(\"gold_yearly_sales_by_region\")"
      ],
      "metadata": {
        "colab": {
          "base_uri": "https://localhost:8080/"
        },
        "id": "NvZFquJPY5kU",
        "outputId": "36943f1d-d5f8-43d8-cd37-db10c017d89a"
      },
      "execution_count": 51,
      "outputs": [
        {
          "output_type": "stream",
          "name": "stderr",
          "text": [
            "WARNING:cassandra.cluster:Downgrading core protocol version from 66 to 65 for 1aa171fb-7dcc-44be-a931-3e32eac0bea1-us-east-2.db.astra.datastax.com:29042:9e3a5bee-3d95-3bf7-90f5-09bd2177324b. To avoid this, it is best practice to explicitly set Cluster(protocol_version) to the version supported by your cluster. http://datastax.github.io/python-driver/api/cassandra/cluster.html#cassandra.cluster.Cluster.protocol_version\n",
            "WARNING:cassandra.cluster:Downgrading core protocol version from 65 to 5 for 1aa171fb-7dcc-44be-a931-3e32eac0bea1-us-east-2.db.astra.datastax.com:29042:9e3a5bee-3d95-3bf7-90f5-09bd2177324b. To avoid this, it is best practice to explicitly set Cluster(protocol_version) to the version supported by your cluster. http://datastax.github.io/python-driver/api/cassandra/cluster.html#cassandra.cluster.Cluster.protocol_version\n",
            "WARNING:cassandra.cluster:Downgrading core protocol version from 5 to 4 for 1aa171fb-7dcc-44be-a931-3e32eac0bea1-us-east-2.db.astra.datastax.com:29042:9e3a5bee-3d95-3bf7-90f5-09bd2177324b. To avoid this, it is best practice to explicitly set Cluster(protocol_version) to the version supported by your cluster. http://datastax.github.io/python-driver/api/cassandra/cluster.html#cassandra.cluster.Cluster.protocol_version\n"
          ]
        },
        {
          "output_type": "stream",
          "name": "stdout",
          "text": [
            "Row(order_year=2014, region='Sub-Saharan Africa', total_profit=Decimal('11302.059999999999490682967007160186767578125'), total_revenue=Decimal('36860.2300000000032014213502407073974609375'), total_units_sold=451)\n",
            "Row(order_year=2010, region='Australia and Oceania', total_profit=Decimal('700209.25'), total_revenue=Decimal('2823440.75'), total_units_sold=4225)\n",
            "Row(order_year=2012, region='Europe', total_profit=Decimal('756335.400000000023283064365386962890625'), total_revenue=Decimal('2014159.19999999995343387126922607421875'), total_units_sold=7890)\n",
            "Row(order_year=2017, region='Sub-Saharan Africa', total_profit=Decimal('113120'), total_revenue=Decimal('583484.160000000032596290111541748046875'), total_units_sold=896)\n",
            "Row(order_year=2015, region='Europe', total_profit=Decimal('180477.0599999999976716935634613037109375'), total_revenue=Decimal('453813.599999999976716935634613037109375'), total_units_sold=1038)\n",
            "--------------------\n"
          ]
        }
      ]
    },
    {
      "cell_type": "code",
      "source": [],
      "metadata": {
        "id": "lIeV5o0tp1eZ"
      },
      "execution_count": null,
      "outputs": []
    }
  ]
}